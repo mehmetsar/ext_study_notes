{
  "nbformat": 4,
  "nbformat_minor": 0,
  "metadata": {
    "colab": {
      "name": "Long_list_comp.ipynb",
      "provenance": [],
      "authorship_tag": "ABX9TyMLNCQ15cf+udAWe279T1wc",
      "include_colab_link": true
    },
    "kernelspec": {
      "name": "python3",
      "display_name": "Python 3"
    },
    "language_info": {
      "name": "python"
    }
  },
  "cells": [
    {
      "cell_type": "markdown",
      "metadata": {
        "id": "view-in-github",
        "colab_type": "text"
      },
      "source": [
        "<a href=\"https://colab.research.google.com/github/mehmetsar/ext_study_notes/blob/main/Long_list_comp.ipynb\" target=\"_parent\"><img src=\"https://colab.research.google.com/assets/colab-badge.svg\" alt=\"Open In Colab\"/></a>"
      ]
    },
    {
      "cell_type": "code",
      "metadata": {
        "id": "Rv2XnKHL_gZ_"
      },
      "source": [
        "def times_tables():\n",
        "    lst = []\n",
        "    for i in range(10):\n",
        "        for j in range (10):\n",
        "            lst.append(i*j)\n",
        "    return lst\n",
        "\n",
        "times_tables() == [j*i for i in range(10) for j in range(10)]"
      ],
      "execution_count": null,
      "outputs": []
    }
  ]
}