{
  "nbformat": 4,
  "nbformat_minor": 0,
  "metadata": {
    "colab": {
      "provenance": [],
      "authorship_tag": "ABX9TyPmS8Qec8HQ8rHwL+YdiAJa",
      "include_colab_link": true
    },
    "kernelspec": {
      "name": "python3",
      "display_name": "Python 3"
    },
    "language_info": {
      "name": "python"
    }
  },
  "cells": [
    {
      "cell_type": "markdown",
      "metadata": {
        "id": "view-in-github",
        "colab_type": "text"
      },
      "source": [
        "<a href=\"https://colab.research.google.com/github/mehmetsar/ext_study_notes/blob/main/magic_methods_str_rpr.ipynb\" target=\"_parent\"><img src=\"https://colab.research.google.com/assets/colab-badge.svg\" alt=\"Open In Colab\"/></a>"
      ]
    },
    {
      "cell_type": "code",
      "execution_count": null,
      "metadata": {
        "id": "TDhfLAdbGn1x"
      },
      "outputs": [],
      "source": [
        "## in python methods with __ are special methods (magic methods)\n",
        "# like init . u dont have to call them"
      ]
    },
    {
      "cell_type": "code",
      "source": [
        "class Person:\n",
        "    def __init__(self, name, age):\n",
        "      self.name = name\n",
        "      self.age = age\n"
      ],
      "metadata": {
        "id": "lGe4_pq5JoMp"
      },
      "execution_count": 1,
      "outputs": []
    },
    {
      "cell_type": "code",
      "source": [
        "bob = Person('Bob', 35)"
      ],
      "metadata": {
        "id": "wDPOH3PEJ9g0"
      },
      "execution_count": 5,
      "outputs": []
    },
    {
      "cell_type": "code",
      "source": [
        "bob"
      ],
      "metadata": {
        "colab": {
          "base_uri": "https://localhost:8080/"
        },
        "id": "oq6Pya43KCKs",
        "outputId": "0866af22-e9cc-4678-a15f-af73d27b6d79"
      },
      "execution_count": 3,
      "outputs": [
        {
          "output_type": "execute_result",
          "data": {
            "text/plain": [
              "<__main__.Person at 0x7f7fc3e73090>"
            ]
          },
          "metadata": {},
          "execution_count": 3
        }
      ]
    },
    {
      "cell_type": "code",
      "source": [
        "class Person2:\n",
        "    def __init__(self, name, age):\n",
        "\n",
        "      self.name = name\n",
        "      self.age = age\n",
        "\n",
        "    def __str__(self):\n",
        "\n",
        "       return f'Person {self.name}, {self.age} years old' \n",
        "    def __repr__(self):\n",
        "        return f'<Person({self.name}, {self.age})>'   \n"
      ],
      "metadata": {
        "id": "plkoPH-9KCy8"
      },
      "execution_count": 24,
      "outputs": []
    },
    {
      "cell_type": "code",
      "source": [
        "bob = Person2('ali', 20)"
      ],
      "metadata": {
        "id": "N_c6SNXxKmki"
      },
      "execution_count": 25,
      "outputs": []
    },
    {
      "cell_type": "code",
      "source": [
        "bob"
      ],
      "metadata": {
        "colab": {
          "base_uri": "https://localhost:8080/"
        },
        "id": "SZFmxkSNKoSF",
        "outputId": "31a9314b-b13f-4c75-b3bc-607f746b4ddd"
      },
      "execution_count": 26,
      "outputs": [
        {
          "output_type": "execute_result",
          "data": {
            "text/plain": [
              "<Person(ali, 20)>"
            ]
          },
          "metadata": {},
          "execution_count": 26
        }
      ]
    },
    {
      "cell_type": "code",
      "source": [],
      "metadata": {
        "id": "CPhR4_sGKzGF"
      },
      "execution_count": null,
      "outputs": []
    }
  ]
}