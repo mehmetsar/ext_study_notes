{
  "nbformat": 4,
  "nbformat_minor": 0,
  "metadata": {
    "colab": {
      "provenance": [],
      "authorship_tag": "ABX9TyPpE7LFMs9Dn/6WMYwZJMH4",
      "include_colab_link": true
    },
    "kernelspec": {
      "name": "python3",
      "display_name": "Python 3"
    },
    "language_info": {
      "name": "python"
    }
  },
  "cells": [
    {
      "cell_type": "markdown",
      "metadata": {
        "id": "view-in-github",
        "colab_type": "text"
      },
      "source": [
        "<a href=\"https://colab.research.google.com/github/mehmetsar/ext_study_notes/blob/main/python_refreshing.ipynb\" target=\"_parent\"><img src=\"https://colab.research.google.com/assets/colab-badge.svg\" alt=\"Open In Colab\"/></a>"
      ]
    },
    {
      "cell_type": "code",
      "execution_count": 2,
      "metadata": {
        "id": "dkbgWxTi8wix"
      },
      "outputs": [],
      "source": [
        "head , *tail = [1,2,3,4,5] # ilk degisken head'e kalanlar tail'a atandi"
      ]
    },
    {
      "cell_type": "code",
      "source": [
        "head"
      ],
      "metadata": {
        "colab": {
          "base_uri": "https://localhost:8080/"
        },
        "id": "Tk0B4ZDL81oT",
        "outputId": "97344bb5-b125-485f-fdf1-7c162b961bf3"
      },
      "execution_count": 3,
      "outputs": [
        {
          "output_type": "execute_result",
          "data": {
            "text/plain": [
              "1"
            ]
          },
          "metadata": {},
          "execution_count": 3
        }
      ]
    },
    {
      "cell_type": "code",
      "source": [
        "tail"
      ],
      "metadata": {
        "colab": {
          "base_uri": "https://localhost:8080/"
        },
        "id": "iPUeleYh86_p",
        "outputId": "72fdd02b-af27-4027-a9bd-d0835186a587"
      },
      "execution_count": 4,
      "outputs": [
        {
          "output_type": "execute_result",
          "data": {
            "text/plain": [
              "[2, 3, 4, 5]"
            ]
          },
          "metadata": {},
          "execution_count": 4
        }
      ]
    },
    {
      "cell_type": "code",
      "source": [],
      "metadata": {
        "id": "D9fZlM-K87u1"
      },
      "execution_count": null,
      "outputs": []
    },
    {
      "cell_type": "code",
      "source": [
        "my_list = [1,2,3,4,5,6]"
      ],
      "metadata": {
        "id": "sgDdbGs696qx"
      },
      "execution_count": 5,
      "outputs": []
    },
    {
      "cell_type": "code",
      "source": [
        "list_2 = [x*2 for x in my_list]\n",
        "list_2"
      ],
      "metadata": {
        "colab": {
          "base_uri": "https://localhost:8080/"
        },
        "id": "8QzdDUS099ig",
        "outputId": "cab67da6-11d1-47ac-a999-64d005520739"
      },
      "execution_count": 7,
      "outputs": [
        {
          "output_type": "execute_result",
          "data": {
            "text/plain": [
              "[2, 4, 6, 8, 10, 12]"
            ]
          },
          "metadata": {},
          "execution_count": 7
        }
      ]
    },
    {
      "cell_type": "code",
      "source": [
        "multi = lambda x: x*2"
      ],
      "metadata": {
        "id": "RIyl0M9r-mKS"
      },
      "execution_count": 10,
      "outputs": []
    },
    {
      "cell_type": "code",
      "source": [
        "list_3 = map(multi, my_list)"
      ],
      "metadata": {
        "id": "JHcgNFGR-GCK"
      },
      "execution_count": 12,
      "outputs": []
    },
    {
      "cell_type": "code",
      "source": [
        "list_3"
      ],
      "metadata": {
        "colab": {
          "base_uri": "https://localhost:8080/"
        },
        "id": "j4kL804__HCz",
        "outputId": "d2c5cae9-8ba7-49a2-afe3-bbc50fbdbccb"
      },
      "execution_count": 16,
      "outputs": [
        {
          "output_type": "execute_result",
          "data": {
            "text/plain": [
              "<map at 0x7ffacde08ed0>"
            ]
          },
          "metadata": {},
          "execution_count": 16
        }
      ]
    },
    {
      "cell_type": "code",
      "source": [
        "list(list_3)"
      ],
      "metadata": {
        "colab": {
          "base_uri": "https://localhost:8080/"
        },
        "id": "CjHzdhPN-bS_",
        "outputId": "6ab3d80f-b186-444e-9a0a-95eaf4a4ee8f"
      },
      "execution_count": 15,
      "outputs": [
        {
          "output_type": "execute_result",
          "data": {
            "text/plain": [
              "[2, 4, 6, 8, 10, 12]"
            ]
          },
          "metadata": {},
          "execution_count": 15
        }
      ]
    },
    {
      "cell_type": "code",
      "source": [
        "## dictionary comprhension"
      ],
      "metadata": {
        "id": "gg1F_Epr-vlj"
      },
      "execution_count": 17,
      "outputs": []
    },
    {
      "cell_type": "code",
      "source": [
        "users = [\n",
        "    (0,'Ahmet', 93),\n",
        "    (1,'Mehmet', 100),\n",
        "    (2, 'Akin', 1000),\n",
        "    (3,'Oguz', 110)\n",
        "]"
      ],
      "metadata": {
        "id": "J3U8e1Zb_cKL"
      },
      "execution_count": 18,
      "outputs": []
    },
    {
      "cell_type": "code",
      "source": [
        "users[0]"
      ],
      "metadata": {
        "colab": {
          "base_uri": "https://localhost:8080/"
        },
        "id": "VrKy8Rkg_4FP",
        "outputId": "598292a2-5be9-4cac-9835-4fcd2a4f57d6"
      },
      "execution_count": 20,
      "outputs": [
        {
          "output_type": "execute_result",
          "data": {
            "text/plain": [
              "(0, 'Ahmet', 93)"
            ]
          },
          "metadata": {},
          "execution_count": 20
        }
      ]
    },
    {
      "cell_type": "code",
      "source": [
        "studentname_mapping = {user[1]: user for user in users\n",
        "}"
      ],
      "metadata": {
        "id": "avs-vxea_5Fb"
      },
      "execution_count": 21,
      "outputs": []
    },
    {
      "cell_type": "code",
      "source": [
        "studentname_mapping"
      ],
      "metadata": {
        "colab": {
          "base_uri": "https://localhost:8080/"
        },
        "id": "oLWShdVY_8Jk",
        "outputId": "e84fa763-f295-45dc-927e-c38898874ac7"
      },
      "execution_count": 22,
      "outputs": [
        {
          "output_type": "execute_result",
          "data": {
            "text/plain": [
              "{'Ahmet': (0, 'Ahmet', 93),\n",
              " 'Mehmet': (1, 'Mehmet', 100),\n",
              " 'Akin': (2, 'Akin', 1000),\n",
              " 'Oguz': (3, 'Oguz', 110)}"
            ]
          },
          "metadata": {},
          "execution_count": 22
        }
      ]
    },
    {
      "cell_type": "code",
      "source": [
        "studentname_mapping2 = {user[1]: user[2] for user in users\n",
        "}"
      ],
      "metadata": {
        "id": "4RISQd2RAOTc"
      },
      "execution_count": 24,
      "outputs": []
    },
    {
      "cell_type": "code",
      "source": [
        "studentname_mapping2"
      ],
      "metadata": {
        "colab": {
          "base_uri": "https://localhost:8080/"
        },
        "id": "I-KVDxUJAaI5",
        "outputId": "4ddc2d76-05c4-455a-848b-8daa5b34c5bd"
      },
      "execution_count": 25,
      "outputs": [
        {
          "output_type": "execute_result",
          "data": {
            "text/plain": [
              "{'Ahmet': 93, 'Mehmet': 100, 'Akin': 1000, 'Oguz': 110}"
            ]
          },
          "metadata": {},
          "execution_count": 25
        }
      ]
    },
    {
      "cell_type": "code",
      "source": [],
      "metadata": {
        "id": "-eO01n4HAcc2"
      },
      "execution_count": null,
      "outputs": []
    }
  ]
}