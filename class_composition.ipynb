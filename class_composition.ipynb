{
  "nbformat": 4,
  "nbformat_minor": 0,
  "metadata": {
    "colab": {
      "provenance": [],
      "authorship_tag": "ABX9TyMiTa7k1GcPHdDvjlVg4+H1",
      "include_colab_link": true
    },
    "kernelspec": {
      "name": "python3",
      "display_name": "Python 3"
    },
    "language_info": {
      "name": "python"
    }
  },
  "cells": [
    {
      "cell_type": "markdown",
      "metadata": {
        "id": "view-in-github",
        "colab_type": "text"
      },
      "source": [
        "<a href=\"https://colab.research.google.com/github/mehmetsar/ext_study_notes/blob/main/class_composition.ipynb\" target=\"_parent\"><img src=\"https://colab.research.google.com/assets/colab-badge.svg\" alt=\"Open In Colab\"/></a>"
      ]
    },
    {
      "cell_type": "code",
      "execution_count": 10,
      "metadata": {
        "id": "kMJ5U2J9ZYRM"
      },
      "outputs": [],
      "source": [
        "class BookShelf:\n",
        "  def __init__(self, quantity):\n",
        "    self.quantity = quantity\n",
        "\n",
        "  def __repr__(self):\n",
        "    return f' BookShelf with {self.quantity} books.'  "
      ]
    },
    {
      "cell_type": "code",
      "source": [
        "shelf = BookShelf(300)"
      ],
      "metadata": {
        "id": "P8gA9_HiZ3Xw"
      },
      "execution_count": 11,
      "outputs": []
    },
    {
      "cell_type": "code",
      "source": [
        "shelf"
      ],
      "metadata": {
        "colab": {
          "base_uri": "https://localhost:8080/"
        },
        "id": "_XsVw7ceZ8bb",
        "outputId": "8b9423a3-600d-4267-d0b1-a678a2b3a304"
      },
      "execution_count": 12,
      "outputs": [
        {
          "output_type": "execute_result",
          "data": {
            "text/plain": [
              " BookShelf with 300 books."
            ]
          },
          "metadata": {},
          "execution_count": 12
        }
      ]
    },
    {
      "cell_type": "code",
      "source": [
        "class Book(BookShelf):\n",
        "  def __init__(self,name , quantity):\n",
        "    super().__init__(quantity)\n",
        "    self.name = name\n",
        "\n",
        " \n"
      ],
      "metadata": {
        "id": "kkfNulQ8Z9Ov"
      },
      "execution_count": 13,
      "outputs": []
    },
    {
      "cell_type": "code",
      "source": [
        "class BookShelf:\n",
        "  def __init__(self, *books):\n",
        "    self.books = books\n",
        "\n",
        "  def __repr__(self):\n",
        "    return f' BookShelf with {len(self.books)} books.'  "
      ],
      "metadata": {
        "id": "fBq1_Omcae7E"
      },
      "execution_count": 14,
      "outputs": []
    },
    {
      "cell_type": "code",
      "source": [
        "class Book():\n",
        "  def __init__(self,name ):\n",
        "    self.name = name\n",
        "  def __repr__(self):\n",
        "    return f'Book {self.name}' \n",
        " \n"
      ],
      "metadata": {
        "id": "4DcRCmCDcV2O"
      },
      "execution_count": 15,
      "outputs": []
    },
    {
      "cell_type": "code",
      "source": [
        "book = Book('harry Potter')\n",
        "book2 = Book('Wealths of Nations')"
      ],
      "metadata": {
        "id": "zX9obwbDcvSt"
      },
      "execution_count": 16,
      "outputs": []
    },
    {
      "cell_type": "code",
      "source": [
        "shelf = BookShelf(book, book2)"
      ],
      "metadata": {
        "id": "hzTiW6WGc3iF"
      },
      "execution_count": 17,
      "outputs": []
    },
    {
      "cell_type": "code",
      "source": [
        "shelf"
      ],
      "metadata": {
        "colab": {
          "base_uri": "https://localhost:8080/"
        },
        "id": "IuPfUHycc8Jn",
        "outputId": "048b6413-b527-4057-ee8b-afbb27df5410"
      },
      "execution_count": 18,
      "outputs": [
        {
          "output_type": "execute_result",
          "data": {
            "text/plain": [
              " BookShelf with 2 books."
            ]
          },
          "metadata": {},
          "execution_count": 18
        }
      ]
    },
    {
      "cell_type": "code",
      "source": [
        "book"
      ],
      "metadata": {
        "colab": {
          "base_uri": "https://localhost:8080/"
        },
        "id": "d9PRxTPTc9EJ",
        "outputId": "774f03a2-1029-49be-a5e3-df61abb7018e"
      },
      "execution_count": 19,
      "outputs": [
        {
          "output_type": "execute_result",
          "data": {
            "text/plain": [
              "Book harry Potter"
            ]
          },
          "metadata": {},
          "execution_count": 19
        }
      ]
    },
    {
      "cell_type": "code",
      "source": [
        "shelf.books"
      ],
      "metadata": {
        "colab": {
          "base_uri": "https://localhost:8080/"
        },
        "id": "-B2t5Rg6c-q7",
        "outputId": "eb806f68-440f-4e33-b812-41f36c2ac5e8"
      },
      "execution_count": 20,
      "outputs": [
        {
          "output_type": "execute_result",
          "data": {
            "text/plain": [
              "(Book harry Potter, Book Wealths of Nations)"
            ]
          },
          "metadata": {},
          "execution_count": 20
        }
      ]
    },
    {
      "cell_type": "code",
      "source": [],
      "metadata": {
        "id": "BYPucJ8ndQt1"
      },
      "execution_count": null,
      "outputs": []
    }
  ]
}