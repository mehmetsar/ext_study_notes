{
 "cells": [
  {
   "cell_type": "code",
   "execution_count": 173,
   "id": "0e962c5b",
   "metadata": {},
   "outputs": [],
   "source": [
    "import pandas as pd \n",
    "import numpy as np\n",
    "import matplotlib.pyplot as plt\n",
    "import seaborn as sns\n",
    "import string as str"
   ]
  },
  {
   "cell_type": "code",
   "execution_count": 174,
   "id": "76cf8444",
   "metadata": {},
   "outputs": [],
   "source": [
    "df =  pd.read_csv(\"World_Vaccination_Progress.csv\")"
   ]
  },
  {
   "cell_type": "code",
   "execution_count": 175,
   "id": "d614cb8b",
   "metadata": {},
   "outputs": [
    {
     "data": {
      "text/html": [
       "<div>\n",
       "<style scoped>\n",
       "    .dataframe tbody tr th:only-of-type {\n",
       "        vertical-align: middle;\n",
       "    }\n",
       "\n",
       "    .dataframe tbody tr th {\n",
       "        vertical-align: top;\n",
       "    }\n",
       "\n",
       "    .dataframe thead th {\n",
       "        text-align: right;\n",
       "    }\n",
       "</style>\n",
       "<table border=\"1\" class=\"dataframe\">\n",
       "  <thead>\n",
       "    <tr style=\"text-align: right;\">\n",
       "      <th></th>\n",
       "      <th>Country</th>\n",
       "      <th>Doses Administered</th>\n",
       "      <th>Doses per 1000</th>\n",
       "      <th>Fully Vaccinated Population (%)</th>\n",
       "      <th>Vaccine being used in a country</th>\n",
       "    </tr>\n",
       "  </thead>\n",
       "  <tbody>\n",
       "    <tr>\n",
       "      <th>176</th>\n",
       "      <td>Guinea-Bissau</td>\n",
       "      <td>25225</td>\n",
       "      <td>13.5</td>\n",
       "      <td>0.1</td>\n",
       "      <td>Oxford/AstraZeneca, Sinopharm/Beijing</td>\n",
       "    </tr>\n",
       "    <tr>\n",
       "      <th>177</th>\n",
       "      <td>Sint Maarten (Dutch part)</td>\n",
       "      <td>24634</td>\n",
       "      <td>605.9</td>\n",
       "      <td>24.5</td>\n",
       "      <td>Moderna, Oxford/AstraZeneca, Pfizer/BioNTech</td>\n",
       "    </tr>\n",
       "    <tr>\n",
       "      <th>178</th>\n",
       "      <td>Chad</td>\n",
       "      <td>24459</td>\n",
       "      <td>1.6</td>\n",
       "      <td>0.0</td>\n",
       "      <td>Sinopharm/Beijing</td>\n",
       "    </tr>\n",
       "    <tr>\n",
       "      <th>179</th>\n",
       "      <td>Andorra</td>\n",
       "      <td>19064</td>\n",
       "      <td>247.6</td>\n",
       "      <td>1.6</td>\n",
       "      <td>Oxford/AstraZeneca, Pfizer/BioNTech</td>\n",
       "    </tr>\n",
       "    <tr>\n",
       "      <th>180</th>\n",
       "      <td>Anguilla</td>\n",
       "      <td>13235</td>\n",
       "      <td>732.6</td>\n",
       "      <td>24.5</td>\n",
       "      <td>Oxford/AstraZeneca</td>\n",
       "    </tr>\n",
       "    <tr>\n",
       "      <th>181</th>\n",
       "      <td>Nauru</td>\n",
       "      <td>10556</td>\n",
       "      <td>830.9</td>\n",
       "      <td>24.0</td>\n",
       "      <td>Oxford/AstraZeneca</td>\n",
       "    </tr>\n",
       "    <tr>\n",
       "      <th>182</th>\n",
       "      <td>Wallis and Futuna</td>\n",
       "      <td>9112</td>\n",
       "      <td>576.4</td>\n",
       "      <td>28.5</td>\n",
       "      <td>Oxford/AstraZeneca</td>\n",
       "    </tr>\n",
       "    <tr>\n",
       "      <th>183</th>\n",
       "      <td>Bonaire Sint Eustatius and Saba</td>\n",
       "      <td>7391</td>\n",
       "      <td>275.7</td>\n",
       "      <td>6.2</td>\n",
       "      <td>Moderna, Pfizer/BioNTech</td>\n",
       "    </tr>\n",
       "    <tr>\n",
       "      <th>184</th>\n",
       "      <td>Falkland Islands</td>\n",
       "      <td>4322</td>\n",
       "      <td>1070.1</td>\n",
       "      <td>42.5</td>\n",
       "      <td>Oxford/AstraZeneca</td>\n",
       "    </tr>\n",
       "    <tr>\n",
       "      <th>185</th>\n",
       "      <td>Montserrat</td>\n",
       "      <td>1306</td>\n",
       "      <td>243.7</td>\n",
       "      <td>3.6</td>\n",
       "      <td>Oxford/AstraZeneca</td>\n",
       "    </tr>\n",
       "  </tbody>\n",
       "</table>\n",
       "</div>"
      ],
      "text/plain": [
       "                             Country  Doses Administered  Doses per 1000  \\\n",
       "176                    Guinea-Bissau               25225            13.5   \n",
       "177        Sint Maarten (Dutch part)               24634           605.9   \n",
       "178                             Chad               24459             1.6   \n",
       "179                          Andorra               19064           247.6   \n",
       "180                         Anguilla               13235           732.6   \n",
       "181                            Nauru               10556           830.9   \n",
       "182                Wallis and Futuna                9112           576.4   \n",
       "183  Bonaire Sint Eustatius and Saba                7391           275.7   \n",
       "184                 Falkland Islands                4322          1070.1   \n",
       "185                       Montserrat                1306           243.7   \n",
       "\n",
       "     Fully Vaccinated Population (%)  \\\n",
       "176                              0.1   \n",
       "177                             24.5   \n",
       "178                              0.0   \n",
       "179                              1.6   \n",
       "180                             24.5   \n",
       "181                             24.0   \n",
       "182                             28.5   \n",
       "183                              6.2   \n",
       "184                             42.5   \n",
       "185                              3.6   \n",
       "\n",
       "                  Vaccine being used in a country  \n",
       "176         Oxford/AstraZeneca, Sinopharm/Beijing  \n",
       "177  Moderna, Oxford/AstraZeneca, Pfizer/BioNTech  \n",
       "178                             Sinopharm/Beijing  \n",
       "179           Oxford/AstraZeneca, Pfizer/BioNTech  \n",
       "180                            Oxford/AstraZeneca  \n",
       "181                            Oxford/AstraZeneca  \n",
       "182                            Oxford/AstraZeneca  \n",
       "183                      Moderna, Pfizer/BioNTech  \n",
       "184                            Oxford/AstraZeneca  \n",
       "185                            Oxford/AstraZeneca  "
      ]
     },
     "execution_count": 175,
     "metadata": {},
     "output_type": "execute_result"
    }
   ],
   "source": [
    "df.tail(10)"
   ]
  },
  {
   "cell_type": "code",
   "execution_count": 176,
   "id": "b94294e6",
   "metadata": {
    "scrolled": true
   },
   "outputs": [
    {
     "data": {
      "text/plain": [
       "Country                            0\n",
       "Doses Administered                 0\n",
       "Doses per 1000                     0\n",
       "Fully Vaccinated Population (%)    0\n",
       "Vaccine being used in a country    1\n",
       "dtype: int64"
      ]
     },
     "execution_count": 176,
     "metadata": {},
     "output_type": "execute_result"
    }
   ],
   "source": [
    "df.isna().sum()"
   ]
  },
  {
   "cell_type": "code",
   "execution_count": 177,
   "id": "aa659be5",
   "metadata": {},
   "outputs": [],
   "source": [
    "dfgdp = pd.read_csv(\"gdp-csv-.csv\")"
   ]
  },
  {
   "cell_type": "code",
   "execution_count": 178,
   "id": "891a6907",
   "metadata": {},
   "outputs": [
    {
     "data": {
      "text/html": [
       "<div>\n",
       "<style scoped>\n",
       "    .dataframe tbody tr th:only-of-type {\n",
       "        vertical-align: middle;\n",
       "    }\n",
       "\n",
       "    .dataframe tbody tr th {\n",
       "        vertical-align: top;\n",
       "    }\n",
       "\n",
       "    .dataframe thead th {\n",
       "        text-align: right;\n",
       "    }\n",
       "</style>\n",
       "<table border=\"1\" class=\"dataframe\">\n",
       "  <thead>\n",
       "    <tr style=\"text-align: right;\">\n",
       "      <th></th>\n",
       "      <th>Unnamed: 0</th>\n",
       "      <th>Gross domestic product 2017</th>\n",
       "      <th>Unnamed: 2</th>\n",
       "      <th>Unnamed: 3</th>\n",
       "      <th>Unnamed: 4</th>\n",
       "      <th>Unnamed: 5</th>\n",
       "      <th>Unnamed: 6</th>\n",
       "      <th>Unnamed: 7</th>\n",
       "      <th>Unnamed: 8</th>\n",
       "      <th>Unnamed: 9</th>\n",
       "      <th>Unnamed: 10</th>\n",
       "    </tr>\n",
       "  </thead>\n",
       "  <tbody>\n",
       "    <tr>\n",
       "      <th>0</th>\n",
       "      <td>NaN</td>\n",
       "      <td>NaN</td>\n",
       "      <td>NaN</td>\n",
       "      <td>NaN</td>\n",
       "      <td>NaN</td>\n",
       "      <td>NaN</td>\n",
       "      <td>NaN</td>\n",
       "      <td>NaN</td>\n",
       "      <td>NaN</td>\n",
       "      <td>NaN</td>\n",
       "      <td>NaN</td>\n",
       "    </tr>\n",
       "    <tr>\n",
       "      <th>1</th>\n",
       "      <td>NaN</td>\n",
       "      <td>NaN</td>\n",
       "      <td>NaN</td>\n",
       "      <td>NaN</td>\n",
       "      <td>(millions of</td>\n",
       "      <td>NaN</td>\n",
       "      <td>NaN</td>\n",
       "      <td>NaN</td>\n",
       "      <td>NaN</td>\n",
       "      <td>NaN</td>\n",
       "      <td>NaN</td>\n",
       "    </tr>\n",
       "    <tr>\n",
       "      <th>2</th>\n",
       "      <td>NaN</td>\n",
       "      <td>Ranking</td>\n",
       "      <td>NaN</td>\n",
       "      <td>Economy</td>\n",
       "      <td>US dollars)</td>\n",
       "      <td>NaN</td>\n",
       "      <td>NaN</td>\n",
       "      <td>NaN</td>\n",
       "      <td>NaN</td>\n",
       "      <td>NaN</td>\n",
       "      <td>NaN</td>\n",
       "    </tr>\n",
       "    <tr>\n",
       "      <th>3</th>\n",
       "      <td>NaN</td>\n",
       "      <td>NaN</td>\n",
       "      <td>NaN</td>\n",
       "      <td>NaN</td>\n",
       "      <td>NaN</td>\n",
       "      <td>NaN</td>\n",
       "      <td>NaN</td>\n",
       "      <td>NaN</td>\n",
       "      <td>NaN</td>\n",
       "      <td>NaN</td>\n",
       "      <td>NaN</td>\n",
       "    </tr>\n",
       "    <tr>\n",
       "      <th>4</th>\n",
       "      <td>USA</td>\n",
       "      <td>1</td>\n",
       "      <td>NaN</td>\n",
       "      <td>United States</td>\n",
       "      <td>19,485,394</td>\n",
       "      <td>NaN</td>\n",
       "      <td>NaN</td>\n",
       "      <td>NaN</td>\n",
       "      <td>NaN</td>\n",
       "      <td>NaN</td>\n",
       "      <td>NaN</td>\n",
       "    </tr>\n",
       "    <tr>\n",
       "      <th>5</th>\n",
       "      <td>CHN</td>\n",
       "      <td>2</td>\n",
       "      <td>NaN</td>\n",
       "      <td>China</td>\n",
       "      <td>12,237,700</td>\n",
       "      <td>NaN</td>\n",
       "      <td>NaN</td>\n",
       "      <td>NaN</td>\n",
       "      <td>NaN</td>\n",
       "      <td>NaN</td>\n",
       "      <td>NaN</td>\n",
       "    </tr>\n",
       "    <tr>\n",
       "      <th>6</th>\n",
       "      <td>JPN</td>\n",
       "      <td>3</td>\n",
       "      <td>NaN</td>\n",
       "      <td>Japan</td>\n",
       "      <td>4,872,415</td>\n",
       "      <td>NaN</td>\n",
       "      <td>NaN</td>\n",
       "      <td>NaN</td>\n",
       "      <td>NaN</td>\n",
       "      <td>NaN</td>\n",
       "      <td>NaN</td>\n",
       "    </tr>\n",
       "    <tr>\n",
       "      <th>7</th>\n",
       "      <td>DEU</td>\n",
       "      <td>4</td>\n",
       "      <td>NaN</td>\n",
       "      <td>Germany</td>\n",
       "      <td>3,693,204</td>\n",
       "      <td>NaN</td>\n",
       "      <td>NaN</td>\n",
       "      <td>NaN</td>\n",
       "      <td>NaN</td>\n",
       "      <td>NaN</td>\n",
       "      <td>NaN</td>\n",
       "    </tr>\n",
       "    <tr>\n",
       "      <th>8</th>\n",
       "      <td>IND</td>\n",
       "      <td>5</td>\n",
       "      <td>NaN</td>\n",
       "      <td>India</td>\n",
       "      <td>2,650,725</td>\n",
       "      <td>NaN</td>\n",
       "      <td>NaN</td>\n",
       "      <td>NaN</td>\n",
       "      <td>NaN</td>\n",
       "      <td>NaN</td>\n",
       "      <td>NaN</td>\n",
       "    </tr>\n",
       "    <tr>\n",
       "      <th>9</th>\n",
       "      <td>GBR</td>\n",
       "      <td>6</td>\n",
       "      <td>NaN</td>\n",
       "      <td>United Kingdom</td>\n",
       "      <td>2,637,866</td>\n",
       "      <td>NaN</td>\n",
       "      <td>NaN</td>\n",
       "      <td>NaN</td>\n",
       "      <td>NaN</td>\n",
       "      <td>NaN</td>\n",
       "      <td>NaN</td>\n",
       "    </tr>\n",
       "  </tbody>\n",
       "</table>\n",
       "</div>"
      ],
      "text/plain": [
       "  Unnamed: 0 Gross domestic product 2017  Unnamed: 2      Unnamed: 3  \\\n",
       "0        NaN                         NaN         NaN             NaN   \n",
       "1        NaN                         NaN         NaN             NaN   \n",
       "2        NaN                     Ranking         NaN         Economy   \n",
       "3        NaN                         NaN         NaN             NaN   \n",
       "4        USA                           1         NaN   United States   \n",
       "5        CHN                           2         NaN           China   \n",
       "6        JPN                           3         NaN           Japan   \n",
       "7        DEU                           4         NaN         Germany   \n",
       "8        IND                           5         NaN           India   \n",
       "9        GBR                           6         NaN  United Kingdom   \n",
       "\n",
       "     Unnamed: 4 Unnamed: 5  Unnamed: 6  Unnamed: 7  Unnamed: 8  Unnamed: 9  \\\n",
       "0           NaN        NaN         NaN         NaN         NaN         NaN   \n",
       "1  (millions of        NaN         NaN         NaN         NaN         NaN   \n",
       "2   US dollars)        NaN         NaN         NaN         NaN         NaN   \n",
       "3           NaN        NaN         NaN         NaN         NaN         NaN   \n",
       "4   19,485,394         NaN         NaN         NaN         NaN         NaN   \n",
       "5   12,237,700         NaN         NaN         NaN         NaN         NaN   \n",
       "6    4,872,415         NaN         NaN         NaN         NaN         NaN   \n",
       "7    3,693,204         NaN         NaN         NaN         NaN         NaN   \n",
       "8    2,650,725         NaN         NaN         NaN         NaN         NaN   \n",
       "9    2,637,866         NaN         NaN         NaN         NaN         NaN   \n",
       "\n",
       "   Unnamed: 10  \n",
       "0          NaN  \n",
       "1          NaN  \n",
       "2          NaN  \n",
       "3          NaN  \n",
       "4          NaN  \n",
       "5          NaN  \n",
       "6          NaN  \n",
       "7          NaN  \n",
       "8          NaN  \n",
       "9          NaN  "
      ]
     },
     "execution_count": 178,
     "metadata": {},
     "output_type": "execute_result"
    }
   ],
   "source": [
    "dfgdp.head(10)"
   ]
  },
  {
   "cell_type": "code",
   "execution_count": 179,
   "id": "c4b72bd8",
   "metadata": {},
   "outputs": [],
   "source": [
    "dfgdp2 = dfgdp[[\"Unnamed: 3\",\"Unnamed: 4\"]]"
   ]
  },
  {
   "cell_type": "code",
   "execution_count": 180,
   "id": "12bdb564",
   "metadata": {},
   "outputs": [
    {
     "name": "stderr",
     "output_type": "stream",
     "text": [
      "C:\\Users\\CASPER\\anaconda3\\lib\\site-packages\\pandas\\core\\frame.py:4441: SettingWithCopyWarning: \n",
      "A value is trying to be set on a copy of a slice from a DataFrame\n",
      "\n",
      "See the caveats in the documentation: https://pandas.pydata.org/pandas-docs/stable/user_guide/indexing.html#returning-a-view-versus-a-copy\n",
      "  return super().rename(\n"
     ]
    }
   ],
   "source": [
    "dfgdp2.rename(columns={\"Unnamed: 3\":\"Country\",\"Unnamed: 4\":\"GDP_US_Dollars\"},inplace=True)"
   ]
  },
  {
   "cell_type": "code",
   "execution_count": 181,
   "id": "50294293",
   "metadata": {},
   "outputs": [
    {
     "name": "stderr",
     "output_type": "stream",
     "text": [
      "C:\\Users\\CASPER\\anaconda3\\lib\\site-packages\\pandas\\core\\frame.py:4308: SettingWithCopyWarning: \n",
      "A value is trying to be set on a copy of a slice from a DataFrame\n",
      "\n",
      "See the caveats in the documentation: https://pandas.pydata.org/pandas-docs/stable/user_guide/indexing.html#returning-a-view-versus-a-copy\n",
      "  return super().drop(\n"
     ]
    }
   ],
   "source": [
    "dfgdp2.drop([0,1,2,3],axis=0,inplace=True)"
   ]
  },
  {
   "cell_type": "code",
   "execution_count": 182,
   "id": "1ade1e34",
   "metadata": {},
   "outputs": [
    {
     "data": {
      "text/html": [
       "<div>\n",
       "<style scoped>\n",
       "    .dataframe tbody tr th:only-of-type {\n",
       "        vertical-align: middle;\n",
       "    }\n",
       "\n",
       "    .dataframe tbody tr th {\n",
       "        vertical-align: top;\n",
       "    }\n",
       "\n",
       "    .dataframe thead th {\n",
       "        text-align: right;\n",
       "    }\n",
       "</style>\n",
       "<table border=\"1\" class=\"dataframe\">\n",
       "  <thead>\n",
       "    <tr style=\"text-align: right;\">\n",
       "      <th></th>\n",
       "      <th>Country</th>\n",
       "      <th>GDP_US_Dollars</th>\n",
       "    </tr>\n",
       "  </thead>\n",
       "  <tbody>\n",
       "    <tr>\n",
       "      <th>4</th>\n",
       "      <td>United States</td>\n",
       "      <td>19,485,394</td>\n",
       "    </tr>\n",
       "    <tr>\n",
       "      <th>5</th>\n",
       "      <td>China</td>\n",
       "      <td>12,237,700</td>\n",
       "    </tr>\n",
       "    <tr>\n",
       "      <th>6</th>\n",
       "      <td>Japan</td>\n",
       "      <td>4,872,415</td>\n",
       "    </tr>\n",
       "    <tr>\n",
       "      <th>7</th>\n",
       "      <td>Germany</td>\n",
       "      <td>3,693,204</td>\n",
       "    </tr>\n",
       "    <tr>\n",
       "      <th>8</th>\n",
       "      <td>India</td>\n",
       "      <td>2,650,725</td>\n",
       "    </tr>\n",
       "    <tr>\n",
       "      <th>9</th>\n",
       "      <td>United Kingdom</td>\n",
       "      <td>2,637,866</td>\n",
       "    </tr>\n",
       "    <tr>\n",
       "      <th>10</th>\n",
       "      <td>France</td>\n",
       "      <td>2,582,501</td>\n",
       "    </tr>\n",
       "    <tr>\n",
       "      <th>11</th>\n",
       "      <td>Brazil</td>\n",
       "      <td>2,053,595</td>\n",
       "    </tr>\n",
       "    <tr>\n",
       "      <th>12</th>\n",
       "      <td>Italy</td>\n",
       "      <td>1,943,835</td>\n",
       "    </tr>\n",
       "    <tr>\n",
       "      <th>13</th>\n",
       "      <td>Canada</td>\n",
       "      <td>1,647,120</td>\n",
       "    </tr>\n",
       "    <tr>\n",
       "      <th>14</th>\n",
       "      <td>Russian Federation</td>\n",
       "      <td>1,578,417</td>\n",
       "    </tr>\n",
       "    <tr>\n",
       "      <th>15</th>\n",
       "      <td>Korea, Rep.</td>\n",
       "      <td>1,530,751</td>\n",
       "    </tr>\n",
       "    <tr>\n",
       "      <th>16</th>\n",
       "      <td>Australia</td>\n",
       "      <td>1,323,421</td>\n",
       "    </tr>\n",
       "    <tr>\n",
       "      <th>17</th>\n",
       "      <td>Spain</td>\n",
       "      <td>1,314,314</td>\n",
       "    </tr>\n",
       "    <tr>\n",
       "      <th>18</th>\n",
       "      <td>Mexico</td>\n",
       "      <td>1,150,888</td>\n",
       "    </tr>\n",
       "  </tbody>\n",
       "</table>\n",
       "</div>"
      ],
      "text/plain": [
       "               Country GDP_US_Dollars\n",
       "4        United States    19,485,394 \n",
       "5                China    12,237,700 \n",
       "6                Japan     4,872,415 \n",
       "7              Germany     3,693,204 \n",
       "8                India     2,650,725 \n",
       "9       United Kingdom     2,637,866 \n",
       "10              France     2,582,501 \n",
       "11              Brazil     2,053,595 \n",
       "12               Italy     1,943,835 \n",
       "13              Canada     1,647,120 \n",
       "14  Russian Federation     1,578,417 \n",
       "15         Korea, Rep.     1,530,751 \n",
       "16           Australia     1,323,421 \n",
       "17               Spain     1,314,314 \n",
       "18              Mexico     1,150,888 "
      ]
     },
     "execution_count": 182,
     "metadata": {},
     "output_type": "execute_result"
    }
   ],
   "source": [
    "dfgdp2.head(15)"
   ]
  },
  {
   "cell_type": "code",
   "execution_count": 183,
   "id": "ee457b67",
   "metadata": {},
   "outputs": [
    {
     "data": {
      "text/plain": [
       "Zimbabwe          1\n",
       "Cayman Islands    1\n",
       "Oman              1\n",
       "Somalia           1\n",
       "Japan             1\n",
       "                 ..\n",
       "Maldives          1\n",
       "San Marino        1\n",
       "Belgium           1\n",
       "Samoa             1\n",
       "Ukraine           1\n",
       "Name: Country, Length: 186, dtype: int64"
      ]
     },
     "execution_count": 183,
     "metadata": {},
     "output_type": "execute_result"
    }
   ],
   "source": [
    "df.Country.value_counts()"
   ]
  },
  {
   "cell_type": "code",
   "execution_count": 184,
   "id": "fb280b60",
   "metadata": {},
   "outputs": [],
   "source": [
    "def str_check(df1,df2):\n",
    "    result =[]\n",
    "    for i in df1:\n",
    "        for z in df2:\n",
    "            if i==z:\n",
    "                result.append(z)\n",
    "    return result            "
   ]
  },
  {
   "cell_type": "markdown",
   "id": "a539877b",
   "metadata": {},
   "source": [
    "df ve dfgdp olmak üzere iki dataframe var elimde. Gdp verilerini merge etmeden önce, dfgdp2 deki ülke isimlerini df de aratarak aynı isimler olduğunu teyit ettikten sonra merge işlemini gerçekleştireceğim."
   ]
  },
  {
   "cell_type": "code",
   "execution_count": 185,
   "id": "729fefcd",
   "metadata": {},
   "outputs": [
    {
     "data": {
      "text/plain": [
       "155"
      ]
     },
     "execution_count": 185,
     "metadata": {},
     "output_type": "execute_result"
    }
   ],
   "source": [
    "a = str_check(df.Country,dfgdp2.Country)\n",
    "len(a)"
   ]
  },
  {
   "cell_type": "code",
   "execution_count": 186,
   "id": "3b7874cc",
   "metadata": {},
   "outputs": [],
   "source": [
    "\n",
    "dffinal = pd.merge(df, dfgdp2, how=\"left\",on=\"Country\") "
   ]
  },
  {
   "cell_type": "code",
   "execution_count": 187,
   "id": "b53d15c0",
   "metadata": {},
   "outputs": [
    {
     "data": {
      "text/html": [
       "<div>\n",
       "<style scoped>\n",
       "    .dataframe tbody tr th:only-of-type {\n",
       "        vertical-align: middle;\n",
       "    }\n",
       "\n",
       "    .dataframe tbody tr th {\n",
       "        vertical-align: top;\n",
       "    }\n",
       "\n",
       "    .dataframe thead th {\n",
       "        text-align: right;\n",
       "    }\n",
       "</style>\n",
       "<table border=\"1\" class=\"dataframe\">\n",
       "  <thead>\n",
       "    <tr style=\"text-align: right;\">\n",
       "      <th></th>\n",
       "      <th>Country</th>\n",
       "      <th>Doses Administered</th>\n",
       "      <th>Doses per 1000</th>\n",
       "      <th>Fully Vaccinated Population (%)</th>\n",
       "      <th>Vaccine being used in a country</th>\n",
       "      <th>GDP_US_Dollars</th>\n",
       "    </tr>\n",
       "  </thead>\n",
       "  <tbody>\n",
       "    <tr>\n",
       "      <th>0</th>\n",
       "      <td>Democratic Republic of Congo</td>\n",
       "      <td>73764</td>\n",
       "      <td>0.9</td>\n",
       "      <td>0.0</td>\n",
       "      <td>Oxford/AstraZeneca</td>\n",
       "      <td>NaN</td>\n",
       "    </tr>\n",
       "    <tr>\n",
       "      <th>1</th>\n",
       "      <td>World</td>\n",
       "      <td>3695131183</td>\n",
       "      <td>486.6</td>\n",
       "      <td>13.5</td>\n",
       "      <td>NaN</td>\n",
       "      <td>80,934,771</td>\n",
       "    </tr>\n",
       "    <tr>\n",
       "      <th>2</th>\n",
       "      <td>India</td>\n",
       "      <td>411846401</td>\n",
       "      <td>304.5</td>\n",
       "      <td>6.3</td>\n",
       "      <td>Covaxin, Oxford/AstraZeneca, Sputnik V</td>\n",
       "      <td>2,650,725</td>\n",
       "    </tr>\n",
       "    <tr>\n",
       "      <th>3</th>\n",
       "      <td>United States</td>\n",
       "      <td>338247434</td>\n",
       "      <td>1033.9</td>\n",
       "      <td>49.4</td>\n",
       "      <td>Johnson&amp;Johnson, Moderna, Pfizer/BioNTech</td>\n",
       "      <td>19,485,394</td>\n",
       "    </tr>\n",
       "    <tr>\n",
       "      <th>4</th>\n",
       "      <td>Brazil</td>\n",
       "      <td>124906515</td>\n",
       "      <td>596.3</td>\n",
       "      <td>16.5</td>\n",
       "      <td>Johnson&amp;Johnson, Oxford / AstraZeneca, Oxford/...</td>\n",
       "      <td>2,053,595</td>\n",
       "    </tr>\n",
       "    <tr>\n",
       "      <th>5</th>\n",
       "      <td>Germany</td>\n",
       "      <td>86520137</td>\n",
       "      <td>1043.3</td>\n",
       "      <td>46.8</td>\n",
       "      <td>Johnson&amp;Johnson, Moderna, Oxford/AstraZeneca, ...</td>\n",
       "      <td>3,693,204</td>\n",
       "    </tr>\n",
       "    <tr>\n",
       "      <th>6</th>\n",
       "      <td>United Kingdom</td>\n",
       "      <td>81702466</td>\n",
       "      <td>1228.8</td>\n",
       "      <td>53.5</td>\n",
       "      <td>Moderna, Oxford/AstraZeneca, Pfizer/BioNTech</td>\n",
       "      <td>2,637,866</td>\n",
       "    </tr>\n",
       "    <tr>\n",
       "      <th>7</th>\n",
       "      <td>Japan</td>\n",
       "      <td>71921254</td>\n",
       "      <td>568.4</td>\n",
       "      <td>22.4</td>\n",
       "      <td>Moderna, Pfizer/BioNTech</td>\n",
       "      <td>4,872,415</td>\n",
       "    </tr>\n",
       "    <tr>\n",
       "      <th>8</th>\n",
       "      <td>France</td>\n",
       "      <td>65579149</td>\n",
       "      <td>979.0</td>\n",
       "      <td>42.5</td>\n",
       "      <td>Johnson&amp;Johnson, Moderna, Oxford/AstraZeneca, ...</td>\n",
       "      <td>2,582,501</td>\n",
       "    </tr>\n",
       "    <tr>\n",
       "      <th>9</th>\n",
       "      <td>Turkey</td>\n",
       "      <td>63860891</td>\n",
       "      <td>775.8</td>\n",
       "      <td>25.7</td>\n",
       "      <td>Pfizer/BioNTech, Sinovac</td>\n",
       "      <td>851,549</td>\n",
       "    </tr>\n",
       "    <tr>\n",
       "      <th>10</th>\n",
       "      <td>Italy</td>\n",
       "      <td>62139790</td>\n",
       "      <td>1028.3</td>\n",
       "      <td>44.3</td>\n",
       "      <td>Johnson&amp;Johnson, Moderna, Oxford/AstraZeneca, ...</td>\n",
       "      <td>1,943,835</td>\n",
       "    </tr>\n",
       "    <tr>\n",
       "      <th>11</th>\n",
       "      <td>Indonesia</td>\n",
       "      <td>58495882</td>\n",
       "      <td>218.5</td>\n",
       "      <td>6.1</td>\n",
       "      <td>Moderna, Oxford/AstraZeneca, Sinopharm/Beijing...</td>\n",
       "      <td>1,015,421</td>\n",
       "    </tr>\n",
       "    <tr>\n",
       "      <th>12</th>\n",
       "      <td>Russia</td>\n",
       "      <td>52924914</td>\n",
       "      <td>362.7</td>\n",
       "      <td>14.2</td>\n",
       "      <td>EpiVacCorona, Sputnik V</td>\n",
       "      <td>NaN</td>\n",
       "    </tr>\n",
       "    <tr>\n",
       "      <th>13</th>\n",
       "      <td>Spain</td>\n",
       "      <td>51710022</td>\n",
       "      <td>1106.7</td>\n",
       "      <td>52.1</td>\n",
       "      <td>Johnson&amp;Johnson, Moderna, Oxford/AstraZeneca, ...</td>\n",
       "      <td>1,314,314</td>\n",
       "    </tr>\n",
       "    <tr>\n",
       "      <th>14</th>\n",
       "      <td>Mexico</td>\n",
       "      <td>47739783</td>\n",
       "      <td>378.3</td>\n",
       "      <td>15.8</td>\n",
       "      <td>CanSino, Oxford/AstraZeneca, Pfizer/BioNTech, ...</td>\n",
       "      <td>1,150,888</td>\n",
       "    </tr>\n",
       "    <tr>\n",
       "      <th>15</th>\n",
       "      <td>Canada</td>\n",
       "      <td>45679090</td>\n",
       "      <td>1232.6</td>\n",
       "      <td>51.6</td>\n",
       "      <td>Moderna, Oxford/AstraZeneca, Pfizer/BioNTech</td>\n",
       "      <td>1,647,120</td>\n",
       "    </tr>\n",
       "    <tr>\n",
       "      <th>16</th>\n",
       "      <td>Poland</td>\n",
       "      <td>32923412</td>\n",
       "      <td>866.9</td>\n",
       "      <td>43.0</td>\n",
       "      <td>Johnson&amp;Johnson, Moderna, Oxford/AstraZeneca, ...</td>\n",
       "      <td>526,466</td>\n",
       "    </tr>\n",
       "    <tr>\n",
       "      <th>17</th>\n",
       "      <td>Argentina</td>\n",
       "      <td>27430531</td>\n",
       "      <td>616.5</td>\n",
       "      <td>12.1</td>\n",
       "      <td>Oxford/AstraZeneca, Sinopharm/Beijing, Sputnik V</td>\n",
       "      <td>637,430</td>\n",
       "    </tr>\n",
       "    <tr>\n",
       "      <th>18</th>\n",
       "      <td>Chile</td>\n",
       "      <td>23427093</td>\n",
       "      <td>1250.8</td>\n",
       "      <td>58.5</td>\n",
       "      <td>CanSino, Oxford/AstraZeneca, Pfizer/BioNTech, ...</td>\n",
       "      <td>277,076</td>\n",
       "    </tr>\n",
       "    <tr>\n",
       "      <th>19</th>\n",
       "      <td>Colombia</td>\n",
       "      <td>22942717</td>\n",
       "      <td>462.1</td>\n",
       "      <td>19.9</td>\n",
       "      <td>Oxford/AstraZeneca, Pfizer/BioNTech, Sinovac</td>\n",
       "      <td>314,458</td>\n",
       "    </tr>\n",
       "  </tbody>\n",
       "</table>\n",
       "</div>"
      ],
      "text/plain": [
       "                         Country  Doses Administered  Doses per 1000  \\\n",
       "0   Democratic Republic of Congo               73764             0.9   \n",
       "1                          World          3695131183           486.6   \n",
       "2                          India           411846401           304.5   \n",
       "3                  United States           338247434          1033.9   \n",
       "4                         Brazil           124906515           596.3   \n",
       "5                        Germany            86520137          1043.3   \n",
       "6                 United Kingdom            81702466          1228.8   \n",
       "7                          Japan            71921254           568.4   \n",
       "8                         France            65579149           979.0   \n",
       "9                         Turkey            63860891           775.8   \n",
       "10                         Italy            62139790          1028.3   \n",
       "11                     Indonesia            58495882           218.5   \n",
       "12                        Russia            52924914           362.7   \n",
       "13                         Spain            51710022          1106.7   \n",
       "14                        Mexico            47739783           378.3   \n",
       "15                        Canada            45679090          1232.6   \n",
       "16                        Poland            32923412           866.9   \n",
       "17                     Argentina            27430531           616.5   \n",
       "18                         Chile            23427093          1250.8   \n",
       "19                      Colombia            22942717           462.1   \n",
       "\n",
       "    Fully Vaccinated Population (%)  \\\n",
       "0                               0.0   \n",
       "1                              13.5   \n",
       "2                               6.3   \n",
       "3                              49.4   \n",
       "4                              16.5   \n",
       "5                              46.8   \n",
       "6                              53.5   \n",
       "7                              22.4   \n",
       "8                              42.5   \n",
       "9                              25.7   \n",
       "10                             44.3   \n",
       "11                              6.1   \n",
       "12                             14.2   \n",
       "13                             52.1   \n",
       "14                             15.8   \n",
       "15                             51.6   \n",
       "16                             43.0   \n",
       "17                             12.1   \n",
       "18                             58.5   \n",
       "19                             19.9   \n",
       "\n",
       "                      Vaccine being used in a country GDP_US_Dollars  \n",
       "0                                  Oxford/AstraZeneca            NaN  \n",
       "1                                                 NaN     80,934,771  \n",
       "2              Covaxin, Oxford/AstraZeneca, Sputnik V     2,650,725   \n",
       "3           Johnson&Johnson, Moderna, Pfizer/BioNTech    19,485,394   \n",
       "4   Johnson&Johnson, Oxford / AstraZeneca, Oxford/...     2,053,595   \n",
       "5   Johnson&Johnson, Moderna, Oxford/AstraZeneca, ...     3,693,204   \n",
       "6        Moderna, Oxford/AstraZeneca, Pfizer/BioNTech     2,637,866   \n",
       "7                            Moderna, Pfizer/BioNTech     4,872,415   \n",
       "8   Johnson&Johnson, Moderna, Oxford/AstraZeneca, ...     2,582,501   \n",
       "9                            Pfizer/BioNTech, Sinovac       851,549   \n",
       "10  Johnson&Johnson, Moderna, Oxford/AstraZeneca, ...     1,943,835   \n",
       "11  Moderna, Oxford/AstraZeneca, Sinopharm/Beijing...     1,015,421   \n",
       "12                            EpiVacCorona, Sputnik V            NaN  \n",
       "13  Johnson&Johnson, Moderna, Oxford/AstraZeneca, ...     1,314,314   \n",
       "14  CanSino, Oxford/AstraZeneca, Pfizer/BioNTech, ...     1,150,888   \n",
       "15       Moderna, Oxford/AstraZeneca, Pfizer/BioNTech     1,647,120   \n",
       "16  Johnson&Johnson, Moderna, Oxford/AstraZeneca, ...       526,466   \n",
       "17   Oxford/AstraZeneca, Sinopharm/Beijing, Sputnik V       637,430   \n",
       "18  CanSino, Oxford/AstraZeneca, Pfizer/BioNTech, ...       277,076   \n",
       "19       Oxford/AstraZeneca, Pfizer/BioNTech, Sinovac       314,458   "
      ]
     },
     "execution_count": 187,
     "metadata": {},
     "output_type": "execute_result"
    }
   ],
   "source": [
    "dffinal.head(20)"
   ]
  },
  {
   "cell_type": "code",
   "execution_count": 188,
   "id": "96d1f8a2",
   "metadata": {},
   "outputs": [
    {
     "name": "stdout",
     "output_type": "stream",
     "text": [
      "<class 'pandas.core.frame.DataFrame'>\n",
      "Int64Index: 186 entries, 0 to 185\n",
      "Data columns (total 6 columns):\n",
      " #   Column                           Non-Null Count  Dtype  \n",
      "---  ------                           --------------  -----  \n",
      " 0   Country                          186 non-null    object \n",
      " 1   Doses Administered               186 non-null    int64  \n",
      " 2   Doses per 1000                   186 non-null    float64\n",
      " 3   Fully Vaccinated Population (%)  186 non-null    float64\n",
      " 4   Vaccine being used in a country  185 non-null    object \n",
      " 5   GDP_US_Dollars                   155 non-null    object \n",
      "dtypes: float64(2), int64(1), object(3)\n",
      "memory usage: 10.2+ KB\n"
     ]
    }
   ],
   "source": [
    "dffinal.info()"
   ]
  },
  {
   "cell_type": "code",
   "execution_count": 189,
   "id": "e876f595",
   "metadata": {},
   "outputs": [
    {
     "data": {
      "text/plain": [
       "' 2,650,725 '"
      ]
     },
     "execution_count": 189,
     "metadata": {},
     "output_type": "execute_result"
    }
   ],
   "source": [
    "dffinal.GDP_US_Dollars.iloc[2]"
   ]
  },
  {
   "cell_type": "code",
   "execution_count": 190,
   "id": "829de386",
   "metadata": {},
   "outputs": [],
   "source": [
    "dffinal = dffinal.dropna()"
   ]
  },
  {
   "cell_type": "code",
   "execution_count": 247,
   "id": "62cb8125",
   "metadata": {},
   "outputs": [
    {
     "data": {
      "text/plain": [
       "151"
      ]
     },
     "execution_count": 247,
     "metadata": {},
     "output_type": "execute_result"
    }
   ],
   "source": [
    "x = []\n",
    "for i in dffinal.GDP_US_Dollars:\n",
    "    z =i.replace(\"[\",\"\")\n",
    "    t = z.replace(\"]\",\"\")\n",
    "    x.append(t)\n",
    "len(x)    "
   ]
  },
  {
   "cell_type": "code",
   "execution_count": 203,
   "id": "2898106f",
   "metadata": {},
   "outputs": [
    {
     "name": "stdout",
     "output_type": "stream",
     "text": [
      "<class 'pandas.core.frame.DataFrame'>\n",
      "Int64Index: 154 entries, 2 to 181\n",
      "Data columns (total 7 columns):\n",
      " #   Column                           Non-Null Count  Dtype  \n",
      "---  ------                           --------------  -----  \n",
      " 0   Country                          154 non-null    object \n",
      " 1   Doses Administered               154 non-null    int64  \n",
      " 2   Doses per 1000                   154 non-null    float64\n",
      " 3   Fully Vaccinated Population (%)  154 non-null    float64\n",
      " 4   Vaccine being used in a country  154 non-null    object \n",
      " 5   GDP_US_Dollars                   154 non-null    object \n",
      " 6   GDP                              154 non-null    object \n",
      "dtypes: float64(2), int64(1), object(4)\n",
      "memory usage: 9.6+ KB\n"
     ]
    }
   ],
   "source": [
    "dffinal[\"GDP\"]=x\n",
    "dffinal.info()"
   ]
  },
  {
   "cell_type": "code",
   "execution_count": 219,
   "id": "5dd7585d",
   "metadata": {},
   "outputs": [],
   "source": [
    "dffinal = dffinal.reset_index()"
   ]
  },
  {
   "cell_type": "code",
   "execution_count": 253,
   "id": "e268bf72",
   "metadata": {},
   "outputs": [],
   "source": [
    "count = 0\n",
    "while count <len(dffinal):\n",
    "    if dffinal.GDP.iloc[count]==\" \" or dffinal.GDP.iloc[count]==\"\":\n",
    "        dffinal.drop(count,axis = 0, inplace=True)\n",
    "    count +=1    \n",
    "    "
   ]
  },
  {
   "cell_type": "code",
   "execution_count": null,
   "id": "60767370",
   "metadata": {},
   "outputs": [],
   "source": [
    "\n",
    "    "
   ]
  },
  {
   "cell_type": "code",
   "execution_count": 249,
   "id": "8a7dd1cf",
   "metadata": {},
   "outputs": [
    {
     "ename": "AttributeError",
     "evalue": "'list' object has no attribute 'split'",
     "output_type": "error",
     "traceback": [
      "\u001b[1;31m---------------------------------------------------------------------------\u001b[0m",
      "\u001b[1;31mAttributeError\u001b[0m                            Traceback (most recent call last)",
      "\u001b[1;32m<ipython-input-249-e8f7e3b6993c>\u001b[0m in \u001b[0;36m<module>\u001b[1;34m\u001b[0m\n\u001b[0;32m      2\u001b[0m \u001b[0mnew2\u001b[0m\u001b[1;33m=\u001b[0m\u001b[1;33m[\u001b[0m\u001b[1;33m]\u001b[0m\u001b[1;33m\u001b[0m\u001b[1;33m\u001b[0m\u001b[0m\n\u001b[0;32m      3\u001b[0m \u001b[1;32mfor\u001b[0m \u001b[0mi\u001b[0m \u001b[1;32min\u001b[0m \u001b[0mdffinal\u001b[0m\u001b[1;33m.\u001b[0m\u001b[0mGDP\u001b[0m\u001b[1;33m:\u001b[0m\u001b[1;33m\u001b[0m\u001b[1;33m\u001b[0m\u001b[0m\n\u001b[1;32m----> 4\u001b[1;33m     \u001b[0mc\u001b[0m\u001b[1;33m=\u001b[0m\u001b[0mi\u001b[0m\u001b[1;33m.\u001b[0m\u001b[0msplit\u001b[0m\u001b[1;33m(\u001b[0m\u001b[1;33m)\u001b[0m\u001b[1;33m\u001b[0m\u001b[1;33m\u001b[0m\u001b[0m\n\u001b[0m\u001b[0;32m      5\u001b[0m     \u001b[0mnew\u001b[0m\u001b[1;33m.\u001b[0m\u001b[0mappend\u001b[0m\u001b[1;33m(\u001b[0m\u001b[0mc\u001b[0m\u001b[1;33m)\u001b[0m\u001b[1;33m\u001b[0m\u001b[1;33m\u001b[0m\u001b[0m\n\u001b[0;32m      6\u001b[0m \u001b[1;32mfor\u001b[0m \u001b[0mi\u001b[0m \u001b[1;32min\u001b[0m \u001b[0mnew\u001b[0m\u001b[1;33m:\u001b[0m\u001b[1;33m\u001b[0m\u001b[1;33m\u001b[0m\u001b[0m\n",
      "\u001b[1;31mAttributeError\u001b[0m: 'list' object has no attribute 'split'"
     ]
    }
   ],
   "source": [
    "new =[]\n",
    "for i in dffinal.GDP:\n",
    "    c=i.split()\n",
    "    new.append(c)\n"
   ]
  },
  {
   "cell_type": "code",
   "execution_count": 250,
   "id": "e5d0f08c",
   "metadata": {},
   "outputs": [],
   "source": [
    "new2=[]\n",
    "for i in new: \n",
    "    h= i.replace(\"[\",\"\")\n",
    "    p=h.replace(\"]\",\"\")\n",
    "    new2.append(p)"
   ]
  },
  {
   "cell_type": "code",
   "execution_count": 252,
   "id": "84914219",
   "metadata": {},
   "outputs": [
    {
     "data": {
      "text/plain": [
       "[]"
      ]
     },
     "execution_count": 252,
     "metadata": {},
     "output_type": "execute_result"
    }
   ],
   "source": [
    "new2"
   ]
  },
  {
   "cell_type": "code",
   "execution_count": null,
   "id": "9a1c23c6",
   "metadata": {},
   "outputs": [],
   "source": [
    "for i in dffinal"
   ]
  },
  {
   "cell_type": "code",
   "execution_count": 246,
   "id": "aeb96d81",
   "metadata": {},
   "outputs": [
    {
     "data": {
      "text/plain": [
       "['3775']"
      ]
     },
     "execution_count": 246,
     "metadata": {},
     "output_type": "execute_result"
    }
   ],
   "source": [
    "dffinal.GDP.iloc[124]"
   ]
  },
  {
   "cell_type": "code",
   "execution_count": 222,
   "id": "690edc6f",
   "metadata": {},
   "outputs": [],
   "source": [
    "dffinal.drop(150,axis = 0, inplace=True)"
   ]
  },
  {
   "cell_type": "code",
   "execution_count": 230,
   "id": "1f184641",
   "metadata": {},
   "outputs": [],
   "source": [
    "dffinal.drop(124,axis = 0, inplace=True)"
   ]
  },
  {
   "cell_type": "code",
   "execution_count": 231,
   "id": "7f960960",
   "metadata": {},
   "outputs": [
    {
     "ename": "ValueError",
     "evalue": "Unable to parse string \"  \" at position 123",
     "output_type": "error",
     "traceback": [
      "\u001b[1;31m---------------------------------------------------------------------------\u001b[0m",
      "\u001b[1;31mValueError\u001b[0m                                Traceback (most recent call last)",
      "\u001b[1;32mpandas\\_libs\\lib.pyx\u001b[0m in \u001b[0;36mpandas._libs.lib.maybe_convert_numeric\u001b[1;34m()\u001b[0m\n",
      "\u001b[1;31mValueError\u001b[0m: Unable to parse string \"  \"",
      "\nDuring handling of the above exception, another exception occurred:\n",
      "\u001b[1;31mValueError\u001b[0m                                Traceback (most recent call last)",
      "\u001b[1;32m<ipython-input-231-1c7e647144b5>\u001b[0m in \u001b[0;36m<module>\u001b[1;34m\u001b[0m\n\u001b[1;32m----> 1\u001b[1;33m \u001b[0mpd\u001b[0m\u001b[1;33m.\u001b[0m\u001b[0mto_numeric\u001b[0m\u001b[1;33m(\u001b[0m\u001b[0mdffinal\u001b[0m\u001b[1;33m.\u001b[0m\u001b[0mGDP\u001b[0m\u001b[1;33m)\u001b[0m\u001b[1;33m\u001b[0m\u001b[1;33m\u001b[0m\u001b[0m\n\u001b[0m",
      "\u001b[1;32m~\\anaconda3\\lib\\site-packages\\pandas\\core\\tools\\numeric.py\u001b[0m in \u001b[0;36mto_numeric\u001b[1;34m(arg, errors, downcast)\u001b[0m\n\u001b[0;32m    152\u001b[0m         \u001b[0mcoerce_numeric\u001b[0m \u001b[1;33m=\u001b[0m \u001b[0merrors\u001b[0m \u001b[1;32mnot\u001b[0m \u001b[1;32min\u001b[0m \u001b[1;33m(\u001b[0m\u001b[1;34m\"ignore\"\u001b[0m\u001b[1;33m,\u001b[0m \u001b[1;34m\"raise\"\u001b[0m\u001b[1;33m)\u001b[0m\u001b[1;33m\u001b[0m\u001b[1;33m\u001b[0m\u001b[0m\n\u001b[0;32m    153\u001b[0m         \u001b[1;32mtry\u001b[0m\u001b[1;33m:\u001b[0m\u001b[1;33m\u001b[0m\u001b[1;33m\u001b[0m\u001b[0m\n\u001b[1;32m--> 154\u001b[1;33m             values = lib.maybe_convert_numeric(\n\u001b[0m\u001b[0;32m    155\u001b[0m                 \u001b[0mvalues\u001b[0m\u001b[1;33m,\u001b[0m \u001b[0mset\u001b[0m\u001b[1;33m(\u001b[0m\u001b[1;33m)\u001b[0m\u001b[1;33m,\u001b[0m \u001b[0mcoerce_numeric\u001b[0m\u001b[1;33m=\u001b[0m\u001b[0mcoerce_numeric\u001b[0m\u001b[1;33m\u001b[0m\u001b[1;33m\u001b[0m\u001b[0m\n\u001b[0;32m    156\u001b[0m             )\n",
      "\u001b[1;32mpandas\\_libs\\lib.pyx\u001b[0m in \u001b[0;36mpandas._libs.lib.maybe_convert_numeric\u001b[1;34m()\u001b[0m\n",
      "\u001b[1;31mValueError\u001b[0m: Unable to parse string \"  \" at position 123"
     ]
    }
   ],
   "source": [
    "pd.to_numeric(dffinal.GDP)"
   ]
  },
  {
   "cell_type": "markdown",
   "id": "94079aba",
   "metadata": {},
   "source": [
    "#### dffinal.GDP_US_Dollars.iloc[2]"
   ]
  },
  {
   "cell_type": "code",
   "execution_count": 115,
   "id": "3b66ef3b",
   "metadata": {},
   "outputs": [
    {
     "data": {
      "text/html": [
       "<div>\n",
       "<style scoped>\n",
       "    .dataframe tbody tr th:only-of-type {\n",
       "        vertical-align: middle;\n",
       "    }\n",
       "\n",
       "    .dataframe tbody tr th {\n",
       "        vertical-align: top;\n",
       "    }\n",
       "\n",
       "    .dataframe thead th {\n",
       "        text-align: right;\n",
       "    }\n",
       "</style>\n",
       "<table border=\"1\" class=\"dataframe\">\n",
       "  <thead>\n",
       "    <tr style=\"text-align: right;\">\n",
       "      <th></th>\n",
       "      <th>Doses Administered</th>\n",
       "      <th>Doses per 1000</th>\n",
       "      <th>Fully Vaccinated Population (%)</th>\n",
       "    </tr>\n",
       "  </thead>\n",
       "  <tbody>\n",
       "    <tr>\n",
       "      <th>Doses Administered</th>\n",
       "      <td>1.000000</td>\n",
       "      <td>0.01268</td>\n",
       "      <td>-0.010156</td>\n",
       "    </tr>\n",
       "    <tr>\n",
       "      <th>Doses per 1000</th>\n",
       "      <td>0.012680</td>\n",
       "      <td>1.00000</td>\n",
       "      <td>0.965670</td>\n",
       "    </tr>\n",
       "    <tr>\n",
       "      <th>Fully Vaccinated Population (%)</th>\n",
       "      <td>-0.010156</td>\n",
       "      <td>0.96567</td>\n",
       "      <td>1.000000</td>\n",
       "    </tr>\n",
       "  </tbody>\n",
       "</table>\n",
       "</div>"
      ],
      "text/plain": [
       "                                 Doses Administered  Doses per 1000  \\\n",
       "Doses Administered                         1.000000         0.01268   \n",
       "Doses per 1000                             0.012680         1.00000   \n",
       "Fully Vaccinated Population (%)           -0.010156         0.96567   \n",
       "\n",
       "                                 Fully Vaccinated Population (%)  \n",
       "Doses Administered                                     -0.010156  \n",
       "Doses per 1000                                          0.965670  \n",
       "Fully Vaccinated Population (%)                         1.000000  "
      ]
     },
     "execution_count": 115,
     "metadata": {},
     "output_type": "execute_result"
    }
   ],
   "source": [
    "dffinal.corr()"
   ]
  },
  {
   "cell_type": "code",
   "execution_count": 120,
   "id": "a284852b",
   "metadata": {},
   "outputs": [
    {
     "data": {
      "text/plain": [
       "<AxesSubplot:>"
      ]
     },
     "execution_count": 120,
     "metadata": {},
     "output_type": "execute_result"
    },
    {
     "data": {
      "image/png": "[encoded data removed]",
      "text/plain": [
       "<Figure size 432x288 with 2 Axes>"
      ]
     },
     "metadata": {
      "needs_background": "light"
     },
     "output_type": "display_data"
    }
   ],
   "source": [
    "sns.heatmap(dffinal.corr())"
   ]
  },
  {
   "cell_type": "code",
   "execution_count": null,
   "id": "c6c7fef1",
   "metadata": {},
   "outputs": [],
   "source": []
  }
 ],
 "metadata": {
  "kernelspec": {
   "display_name": "Python 3",
   "language": "python",
   "name": "python3"
  },
  "language_info": {
   "codemirror_mode": {
    "name": "ipython",
    "version": 3
   },
   "file_extension": ".py",
   "mimetype": "text/x-python",
   "name": "python",
   "nbconvert_exporter": "python",
   "pygments_lexer": "ipython3",
   "version": "3.8.8"
  }
 },
 "nbformat": 4,
 "nbformat_minor": 5
}
