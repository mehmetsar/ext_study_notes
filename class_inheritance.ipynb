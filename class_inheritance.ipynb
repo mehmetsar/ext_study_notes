{
  "nbformat": 4,
  "nbformat_minor": 0,
  "metadata": {
    "colab": {
      "provenance": [],
      "authorship_tag": "ABX9TyNmCu2pX8MOSvTFOmHFu9V3",
      "include_colab_link": true
    },
    "kernelspec": {
      "name": "python3",
      "display_name": "Python 3"
    },
    "language_info": {
      "name": "python"
    }
  },
  "cells": [
    {
      "cell_type": "markdown",
      "metadata": {
        "id": "view-in-github",
        "colab_type": "text"
      },
      "source": [
        "<a href=\"https://colab.research.google.com/github/mehmetsar/ext_study_notes/blob/main/class_inheritance.ipynb\" target=\"_parent\"><img src=\"https://colab.research.google.com/assets/colab-badge.svg\" alt=\"Open In Colab\"/></a>"
      ]
    },
    {
      "cell_type": "code",
      "execution_count": 9,
      "metadata": {
        "id": "aQEB10SyTSv7"
      },
      "outputs": [],
      "source": [
        "class Device:\n",
        "  def __init__(self,name,connected_by):\n",
        "    self.name = name\n",
        "    self.connected_by = connected_by\n",
        "    self.connected = True\n",
        "  def __repr__(self):\n",
        "     return f'Device {self.name}, is ({self.connected_by})'  \n",
        "  def disconnect(self):\n",
        "    self.connected = False\n",
        "    print('Disconnected')  "
      ]
    },
    {
      "cell_type": "code",
      "source": [
        "printer = Device('Printer', 'Usb')"
      ],
      "metadata": {
        "id": "YurT6jmNTooi"
      },
      "execution_count": 10,
      "outputs": []
    },
    {
      "cell_type": "code",
      "source": [
        "print(printer)\n",
        "printer.disconnect()"
      ],
      "metadata": {
        "colab": {
          "base_uri": "https://localhost:8080/"
        },
        "id": "UEMO-qj0UPAC",
        "outputId": "41487fcf-3e06-4acf-9f46-4af7d48538f0"
      },
      "execution_count": 12,
      "outputs": [
        {
          "output_type": "stream",
          "name": "stdout",
          "text": [
            "Device Printer, is (Usb)\n",
            "Disconnected\n"
          ]
        }
      ]
    },
    {
      "cell_type": "code",
      "source": [
        "class Printer(Device):\n",
        "  def __init__(self, name, connected_by, capacity):\n",
        "    super().__init__(name, connected_by)\n",
        "    self.capacity = capacity\n",
        "    self.remaining_pages = capacity\n",
        "  def __repr__(self):\n",
        "    return f'{super().__repr__()}({self.remainig_pages} pages remaining)'  \n",
        "  def print(self, pages):\n",
        "    if not self.connected:\n",
        "      print('Your printer is not connected')\n",
        "      return\n",
        "    print(f'Printing {pages} pages. ')\n",
        "    self.remaining_pages -= pages    "
      ],
      "metadata": {
        "id": "P502JVb4UQW3"
      },
      "execution_count": 19,
      "outputs": []
    },
    {
      "cell_type": "code",
      "source": [
        "printer = Printer('Printer', 'Usb', 500)"
      ],
      "metadata": {
        "id": "2AraaRptVkX9"
      },
      "execution_count": 20,
      "outputs": []
    },
    {
      "cell_type": "code",
      "source": [
        "printer.print(20)"
      ],
      "metadata": {
        "colab": {
          "base_uri": "https://localhost:8080/"
        },
        "id": "cqd3Fu2sWRVs",
        "outputId": "301c8126-e5f5-4125-bacd-aba769c95cbf"
      },
      "execution_count": 21,
      "outputs": [
        {
          "output_type": "stream",
          "name": "stdout",
          "text": [
            "Printing 20 pages. \n"
          ]
        }
      ]
    },
    {
      "cell_type": "code",
      "source": [
        "print(printer)"
      ],
      "metadata": {
        "colab": {
          "base_uri": "https://localhost:8080/",
          "height": 283
        },
        "id": "6wWLv4KYWTxj",
        "outputId": "44254dc9-b779-4945-a547-7df273064f5e"
      },
      "execution_count": 22,
      "outputs": [
        {
          "output_type": "error",
          "ename": "AttributeError",
          "evalue": "ignored",
          "traceback": [
            "\u001b[0;31m---------------------------------------------------------------------------\u001b[0m",
            "\u001b[0;31mAttributeError\u001b[0m                            Traceback (most recent call last)",
            "\u001b[0;32m<ipython-input-22-93f766b2f435>\u001b[0m in \u001b[0;36m<module>\u001b[0;34m\u001b[0m\n\u001b[0;32m----> 1\u001b[0;31m \u001b[0mprint\u001b[0m\u001b[0;34m(\u001b[0m\u001b[0mprinter\u001b[0m\u001b[0;34m)\u001b[0m\u001b[0;34m\u001b[0m\u001b[0;34m\u001b[0m\u001b[0m\n\u001b[0m",
            "\u001b[0;32m<ipython-input-19-c362871e1342>\u001b[0m in \u001b[0;36m__repr__\u001b[0;34m(self)\u001b[0m\n\u001b[1;32m      5\u001b[0m     \u001b[0mself\u001b[0m\u001b[0;34m.\u001b[0m\u001b[0mremaining_pages\u001b[0m \u001b[0;34m=\u001b[0m \u001b[0mcapacity\u001b[0m\u001b[0;34m\u001b[0m\u001b[0;34m\u001b[0m\u001b[0m\n\u001b[1;32m      6\u001b[0m   \u001b[0;32mdef\u001b[0m \u001b[0m__repr__\u001b[0m\u001b[0;34m(\u001b[0m\u001b[0mself\u001b[0m\u001b[0;34m)\u001b[0m\u001b[0;34m:\u001b[0m\u001b[0;34m\u001b[0m\u001b[0;34m\u001b[0m\u001b[0m\n\u001b[0;32m----> 7\u001b[0;31m     \u001b[0;32mreturn\u001b[0m \u001b[0;34mf'{super().__repr__()}({self.remainig_pages} pages remaining)'\u001b[0m\u001b[0;34m\u001b[0m\u001b[0;34m\u001b[0m\u001b[0m\n\u001b[0m\u001b[1;32m      8\u001b[0m   \u001b[0;32mdef\u001b[0m \u001b[0mprint\u001b[0m\u001b[0;34m(\u001b[0m\u001b[0mself\u001b[0m\u001b[0;34m,\u001b[0m \u001b[0mpages\u001b[0m\u001b[0;34m)\u001b[0m\u001b[0;34m:\u001b[0m\u001b[0;34m\u001b[0m\u001b[0;34m\u001b[0m\u001b[0m\n\u001b[1;32m      9\u001b[0m     \u001b[0;32mif\u001b[0m \u001b[0;32mnot\u001b[0m \u001b[0mself\u001b[0m\u001b[0;34m.\u001b[0m\u001b[0mconnected\u001b[0m\u001b[0;34m:\u001b[0m\u001b[0;34m\u001b[0m\u001b[0;34m\u001b[0m\u001b[0m\n",
            "\u001b[0;31mAttributeError\u001b[0m: 'Printer' object has no attribute 'remainig_pages'"
          ]
        }
      ]
    },
    {
      "cell_type": "code",
      "source": [],
      "metadata": {
        "id": "Wd46aciaWeR0"
      },
      "execution_count": null,
      "outputs": []
    }
  ]
}