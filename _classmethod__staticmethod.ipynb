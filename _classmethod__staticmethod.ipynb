{
  "nbformat": 4,
  "nbformat_minor": 0,
  "metadata": {
    "colab": {
      "provenance": [],
      "authorship_tag": "ABX9TyPLGWSDk7wEHM1+j+jLDqo+",
      "include_colab_link": true
    },
    "kernelspec": {
      "name": "python3",
      "display_name": "Python 3"
    },
    "language_info": {
      "name": "python"
    }
  },
  "cells": [
    {
      "cell_type": "markdown",
      "metadata": {
        "id": "view-in-github",
        "colab_type": "text"
      },
      "source": [
        "<a href=\"https://colab.research.google.com/github/mehmetsar/ext_study_notes/blob/main/_classmethod__staticmethod.ipynb\" target=\"_parent\"><img src=\"https://colab.research.google.com/assets/colab-badge.svg\" alt=\"Open In Colab\"/></a>"
      ]
    },
    {
      "cell_type": "code",
      "execution_count": 39,
      "metadata": {
        "id": "hldQCipVNdjd"
      },
      "outputs": [],
      "source": [
        "class ClassTest:\n",
        "    def instance_method(self):\n",
        "      print(f'called instance method of {self}')\n",
        "\n",
        "    @classmethod\n",
        "    def class_method(cls):\n",
        "      print(f'Called class_method of {cls}')\n",
        "\n",
        "    @staticmethod\n",
        "    def static_method() :\n",
        "      print('Called static_method') "
      ]
    },
    {
      "cell_type": "code",
      "source": [
        "test = ClassTest() # create a new object type ClassTest"
      ],
      "metadata": {
        "id": "eh7s2Nj4NymX"
      },
      "execution_count": 40,
      "outputs": []
    },
    {
      "cell_type": "code",
      "source": [
        "test.instance_method()"
      ],
      "metadata": {
        "colab": {
          "base_uri": "https://localhost:8080/"
        },
        "id": "NY3optTGN6Jf",
        "outputId": "30e60d46-5ccd-49eb-810c-b64e6cb4370f"
      },
      "execution_count": 41,
      "outputs": [
        {
          "output_type": "stream",
          "name": "stdout",
          "text": [
            "called instance method of <__main__.ClassTest object at 0x7f044f497110>\n"
          ]
        }
      ]
    },
    {
      "cell_type": "code",
      "source": [
        "ClassTest.class_method() ## now we dont need to create an object"
      ],
      "metadata": {
        "colab": {
          "base_uri": "https://localhost:8080/"
        },
        "id": "NhDUQyMtOHVv",
        "outputId": "7ce533fb-5923-4b11-ce81-3b97c9b0bcb4"
      },
      "execution_count": 42,
      "outputs": [
        {
          "output_type": "stream",
          "name": "stdout",
          "text": [
            "Called class_method of <class '__main__.ClassTest'>\n"
          ]
        }
      ]
    },
    {
      "cell_type": "code",
      "source": [
        "ClassTest.static_method() # in class method it takes ClassTest as arg but in static\n",
        "# it does not take any arg"
      ],
      "metadata": {
        "colab": {
          "base_uri": "https://localhost:8080/"
        },
        "id": "wEKQsx_6Pa73",
        "outputId": "b8a85887-8036-4d45-a2d5-16afccb47031"
      },
      "execution_count": 45,
      "outputs": [
        {
          "output_type": "stream",
          "name": "stdout",
          "text": [
            "Called static_method\n"
          ]
        }
      ]
    },
    {
      "cell_type": "code",
      "source": [],
      "metadata": {
        "id": "u06jUhqOP486"
      },
      "execution_count": 45,
      "outputs": []
    },
    {
      "cell_type": "code",
      "source": [
        "class Book:\n",
        "  TYPES = ('hardcover', 'paperback')\n",
        "\n",
        "  def __init__(self, name, book_type, weight):\n",
        "    self.name = name\n",
        "    self.book_type = book_type\n",
        "    self.weight = weight\n",
        "\n",
        "  def __repr__(self):\n",
        "    return f'<Book {self.name}, {self.book_type}, weighing {self.weight} grams'\n",
        "\n",
        "  @classmethod\n",
        "  def hardcover(cls, name, page_weight):\n",
        "      return Book(name, Book.TYPES[0],page_weight +100)   "
      ],
      "metadata": {
        "id": "S0cmw8LTRCHz"
      },
      "execution_count": 73,
      "outputs": []
    },
    {
      "cell_type": "code",
      "source": [
        "Book.TYPES"
      ],
      "metadata": {
        "colab": {
          "base_uri": "https://localhost:8080/"
        },
        "id": "oqBeJitvRCKp",
        "outputId": "a72a41e5-c5da-493d-8496-ef63dca945ab"
      },
      "execution_count": 74,
      "outputs": [
        {
          "output_type": "execute_result",
          "data": {
            "text/plain": [
              "('hardcover', 'paperback')"
            ]
          },
          "metadata": {},
          "execution_count": 74
        }
      ]
    },
    {
      "cell_type": "code",
      "source": [
        "book = Book('Harry Potter', 'hardcover', 1500)"
      ],
      "metadata": {
        "id": "XH2RVDjERCNw"
      },
      "execution_count": 75,
      "outputs": []
    },
    {
      "cell_type": "code",
      "source": [
        "book"
      ],
      "metadata": {
        "colab": {
          "base_uri": "https://localhost:8080/"
        },
        "id": "X7xIHpqURCVT",
        "outputId": "36b5ee47-0213-4f3e-ef18-81592d86e715"
      },
      "execution_count": 76,
      "outputs": [
        {
          "output_type": "execute_result",
          "data": {
            "text/plain": [
              "<Book Harry Potter, hardcover, weighing 1500 grams"
            ]
          },
          "metadata": {},
          "execution_count": 76
        }
      ]
    },
    {
      "cell_type": "code",
      "source": [
        "book = Book.hardcover('Harry Potter', 1500)"
      ],
      "metadata": {
        "id": "qhFmLK8vRCYM"
      },
      "execution_count": 77,
      "outputs": []
    },
    {
      "cell_type": "code",
      "source": [
        "book"
      ],
      "metadata": {
        "colab": {
          "base_uri": "https://localhost:8080/"
        },
        "id": "LDKKtrn9SMIN",
        "outputId": "0f6d4207-3b48-45b6-8223-81a6a11c3198"
      },
      "execution_count": 78,
      "outputs": [
        {
          "output_type": "execute_result",
          "data": {
            "text/plain": [
              "<Book Harry Potter, hardcover, weighing 1600 grams"
            ]
          },
          "metadata": {},
          "execution_count": 78
        }
      ]
    },
    {
      "cell_type": "code",
      "source": [],
      "metadata": {
        "id": "Dr8wAwHqSMQz"
      },
      "execution_count": null,
      "outputs": []
    },
    {
      "cell_type": "code",
      "source": [],
      "metadata": {
        "id": "uXIsLYP3SMTp"
      },
      "execution_count": null,
      "outputs": []
    }
  ]
}